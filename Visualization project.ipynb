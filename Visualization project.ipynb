{
 "cells": [
  {
   "cell_type": "markdown",
   "metadata": {},
   "source": [
    "\n",
    "* Source: https://www.kaggle.com/datasets/rajanand/suicides-in-india"
   ]
  },
  {
   "cell_type": "code",
   "execution_count": 3,
   "metadata": {},
   "outputs": [
    {
     "data": {
      "text/html": [
       "<div>\n",
       "<style scoped>\n",
       "    .dataframe tbody tr th:only-of-type {\n",
       "        vertical-align: middle;\n",
       "    }\n",
       "\n",
       "    .dataframe tbody tr th {\n",
       "        vertical-align: top;\n",
       "    }\n",
       "\n",
       "    .dataframe thead th {\n",
       "        text-align: right;\n",
       "    }\n",
       "</style>\n",
       "<table border=\"1\" class=\"dataframe\">\n",
       "  <thead>\n",
       "    <tr style=\"text-align: right;\">\n",
       "      <th></th>\n",
       "      <th>State</th>\n",
       "      <th>Year</th>\n",
       "      <th>Type_code</th>\n",
       "      <th>Type</th>\n",
       "      <th>Gender</th>\n",
       "      <th>Age_group</th>\n",
       "      <th>Total</th>\n",
       "    </tr>\n",
       "  </thead>\n",
       "  <tbody>\n",
       "    <tr>\n",
       "      <th>36365</th>\n",
       "      <td>Chandigarh</td>\n",
       "      <td>2005</td>\n",
       "      <td>Means_adopted</td>\n",
       "      <td>By touching electric wires</td>\n",
       "      <td>Male</td>\n",
       "      <td>15-29</td>\n",
       "      <td>0</td>\n",
       "    </tr>\n",
       "    <tr>\n",
       "      <th>101931</th>\n",
       "      <td>Jharkhand</td>\n",
       "      <td>2002</td>\n",
       "      <td>Causes</td>\n",
       "      <td>Ideological Causes/Hero Worshipping</td>\n",
       "      <td>Female</td>\n",
       "      <td>0-14</td>\n",
       "      <td>0</td>\n",
       "    </tr>\n",
       "    <tr>\n",
       "      <th>86673</th>\n",
       "      <td>Haryana</td>\n",
       "      <td>2010</td>\n",
       "      <td>Professional_Profile</td>\n",
       "      <td>Retired Person</td>\n",
       "      <td>Male</td>\n",
       "      <td>60+</td>\n",
       "      <td>0</td>\n",
       "    </tr>\n",
       "    <tr>\n",
       "      <th>62738</th>\n",
       "      <td>Delhi (Ut)</td>\n",
       "      <td>2004</td>\n",
       "      <td>Means_adopted</td>\n",
       "      <td>By Jumping from (Building)</td>\n",
       "      <td>Male</td>\n",
       "      <td>15-29</td>\n",
       "      <td>0</td>\n",
       "    </tr>\n",
       "    <tr>\n",
       "      <th>159958</th>\n",
       "      <td>Mizoram</td>\n",
       "      <td>2009</td>\n",
       "      <td>Causes</td>\n",
       "      <td>Divorce</td>\n",
       "      <td>Male</td>\n",
       "      <td>0-14</td>\n",
       "      <td>0</td>\n",
       "    </tr>\n",
       "    <tr>\n",
       "      <th>220060</th>\n",
       "      <td>Uttar Pradesh</td>\n",
       "      <td>2006</td>\n",
       "      <td>Causes</td>\n",
       "      <td>Paralysis</td>\n",
       "      <td>Male</td>\n",
       "      <td>0-14</td>\n",
       "      <td>2</td>\n",
       "    </tr>\n",
       "    <tr>\n",
       "      <th>21100</th>\n",
       "      <td>Assam</td>\n",
       "      <td>2002</td>\n",
       "      <td>Means_adopted</td>\n",
       "      <td>By Self Infliction of injury</td>\n",
       "      <td>Male</td>\n",
       "      <td>15-29</td>\n",
       "      <td>0</td>\n",
       "    </tr>\n",
       "    <tr>\n",
       "      <th>217442</th>\n",
       "      <td>Uttar Pradesh</td>\n",
       "      <td>2001</td>\n",
       "      <td>Causes</td>\n",
       "      <td>Other Causes (Please Specity)</td>\n",
       "      <td>Male</td>\n",
       "      <td>60+</td>\n",
       "      <td>3</td>\n",
       "    </tr>\n",
       "    <tr>\n",
       "      <th>75687</th>\n",
       "      <td>Gujarat</td>\n",
       "      <td>2003</td>\n",
       "      <td>Means_adopted</td>\n",
       "      <td>By Fire/Self Immolation</td>\n",
       "      <td>Female</td>\n",
       "      <td>15-29</td>\n",
       "      <td>192</td>\n",
       "    </tr>\n",
       "    <tr>\n",
       "      <th>194221</th>\n",
       "      <td>Rajasthan</td>\n",
       "      <td>2009</td>\n",
       "      <td>Professional_Profile</td>\n",
       "      <td>Self-employed (Business activity)</td>\n",
       "      <td>Female</td>\n",
       "      <td>60+</td>\n",
       "      <td>0</td>\n",
       "    </tr>\n",
       "    <tr>\n",
       "      <th>158128</th>\n",
       "      <td>Mizoram</td>\n",
       "      <td>2005</td>\n",
       "      <td>Professional_Profile</td>\n",
       "      <td>House Wife</td>\n",
       "      <td>Female</td>\n",
       "      <td>15-29</td>\n",
       "      <td>0</td>\n",
       "    </tr>\n",
       "    <tr>\n",
       "      <th>59489</th>\n",
       "      <td>Daman &amp; Diu</td>\n",
       "      <td>2010</td>\n",
       "      <td>Professional_Profile</td>\n",
       "      <td>Public Sector Undertaking</td>\n",
       "      <td>Female</td>\n",
       "      <td>15-29</td>\n",
       "      <td>0</td>\n",
       "    </tr>\n",
       "    <tr>\n",
       "      <th>188180</th>\n",
       "      <td>Punjab</td>\n",
       "      <td>2011</td>\n",
       "      <td>Causes</td>\n",
       "      <td>Illegitimate Pregnancy</td>\n",
       "      <td>Male</td>\n",
       "      <td>30-44</td>\n",
       "      <td>0</td>\n",
       "    </tr>\n",
       "    <tr>\n",
       "      <th>225213</th>\n",
       "      <td>Uttarakhand</td>\n",
       "      <td>2003</td>\n",
       "      <td>Causes</td>\n",
       "      <td>Failure in Examination</td>\n",
       "      <td>Female</td>\n",
       "      <td>30-44</td>\n",
       "      <td>2</td>\n",
       "    </tr>\n",
       "    <tr>\n",
       "      <th>115707</th>\n",
       "      <td>Kerala</td>\n",
       "      <td>2002</td>\n",
       "      <td>Causes</td>\n",
       "      <td>Causes Not known</td>\n",
       "      <td>Male</td>\n",
       "      <td>45-59</td>\n",
       "      <td>295</td>\n",
       "    </tr>\n",
       "  </tbody>\n",
       "</table>\n",
       "</div>"
      ],
      "text/plain": [
       "                State  Year             Type_code  \\\n",
       "36365      Chandigarh  2005         Means_adopted   \n",
       "101931      Jharkhand  2002                Causes   \n",
       "86673         Haryana  2010  Professional_Profile   \n",
       "62738      Delhi (Ut)  2004         Means_adopted   \n",
       "159958        Mizoram  2009                Causes   \n",
       "220060  Uttar Pradesh  2006                Causes   \n",
       "21100           Assam  2002         Means_adopted   \n",
       "217442  Uttar Pradesh  2001                Causes   \n",
       "75687         Gujarat  2003         Means_adopted   \n",
       "194221      Rajasthan  2009  Professional_Profile   \n",
       "158128        Mizoram  2005  Professional_Profile   \n",
       "59489     Daman & Diu  2010  Professional_Profile   \n",
       "188180         Punjab  2011                Causes   \n",
       "225213    Uttarakhand  2003                Causes   \n",
       "115707         Kerala  2002                Causes   \n",
       "\n",
       "                                       Type  Gender Age_group  Total  \n",
       "36365            By touching electric wires    Male     15-29      0  \n",
       "101931  Ideological Causes/Hero Worshipping  Female      0-14      0  \n",
       "86673                        Retired Person    Male       60+      0  \n",
       "62738            By Jumping from (Building)    Male     15-29      0  \n",
       "159958                              Divorce    Male      0-14      0  \n",
       "220060                            Paralysis    Male      0-14      2  \n",
       "21100          By Self Infliction of injury    Male     15-29      0  \n",
       "217442        Other Causes (Please Specity)    Male       60+      3  \n",
       "75687               By Fire/Self Immolation  Female     15-29    192  \n",
       "194221    Self-employed (Business activity)  Female       60+      0  \n",
       "158128                           House Wife  Female     15-29      0  \n",
       "59489             Public Sector Undertaking  Female     15-29      0  \n",
       "188180               Illegitimate Pregnancy    Male     30-44      0  \n",
       "225213               Failure in Examination  Female     30-44      2  \n",
       "115707                     Causes Not known    Male     45-59    295  "
      ]
     },
     "execution_count": 3,
     "metadata": {},
     "output_type": "execute_result"
    }
   ],
   "source": [
    "import numpy as np\n",
    "import pandas as pd\n",
    "import matplotlib.pyplot as plt\n",
    "import ipywidgets as widgets\n",
    "from ipywidgets import interact\n",
    "from IPython.display import display\n",
    "from collections import Counter\n",
    "\n",
    "from sklearn.ensemble import RandomForestRegressor\n",
    "from sklearn.model_selection import train_test_split\n",
    "from sklearn.metrics import mean_absolute_error\n",
    "\n",
    "sui=pd.read_csv('Suicides in India 2001-2012.csv')\n",
    "sui.sample(15)\n"
   ]
  },
  {
   "cell_type": "code",
   "execution_count": 4,
   "metadata": {},
   "outputs": [
    {
     "data": {
      "text/plain": [
       "(237519, 7)"
      ]
     },
     "execution_count": 4,
     "metadata": {},
     "output_type": "execute_result"
    }
   ],
   "source": [
    "sui.shape"
   ]
  },
  {
   "cell_type": "markdown",
   "metadata": {},
   "source": [
    "OBSERVATION 1 : 237519 rows and 7 coloumns"
   ]
  },
  {
   "cell_type": "code",
   "execution_count": 5,
   "metadata": {
    "scrolled": true
   },
   "outputs": [
    {
     "data": {
      "text/plain": [
       "<bound method DataFrame.info of                 State  Year      Type_code  \\\n",
       "0       A & N Islands  2001         Causes   \n",
       "1       A & N Islands  2001         Causes   \n",
       "2       A & N Islands  2001         Causes   \n",
       "3       A & N Islands  2001         Causes   \n",
       "4       A & N Islands  2001         Causes   \n",
       "...               ...   ...            ...   \n",
       "237514    West Bengal  2012  Social_Status   \n",
       "237515    West Bengal  2012  Social_Status   \n",
       "237516    West Bengal  2012  Social_Status   \n",
       "237517    West Bengal  2012  Social_Status   \n",
       "237518    West Bengal  2012  Social_Status   \n",
       "\n",
       "                                           Type  Gender Age_group  Total  \n",
       "0                            Illness (Aids/STD)  Female      0-14      0  \n",
       "1       Bankruptcy or Sudden change in Economic  Female      0-14      0  \n",
       "2       Cancellation/Non-Settlement of Marriage  Female      0-14      0  \n",
       "3             Physical Abuse (Rape/Incest Etc.)  Female      0-14      0  \n",
       "4                                 Dowry Dispute  Female      0-14      0  \n",
       "...                                         ...     ...       ...    ...  \n",
       "237514                                Seperated    Male    0-100+    149  \n",
       "237515                          Widowed/Widower    Male    0-100+    233  \n",
       "237516                                  Married    Male    0-100+   5451  \n",
       "237517                                 Divorcee    Male    0-100+    189  \n",
       "237518                            Never Married    Male    0-100+   2658  \n",
       "\n",
       "[237519 rows x 7 columns]>"
      ]
     },
     "execution_count": 5,
     "metadata": {},
     "output_type": "execute_result"
    }
   ],
   "source": [
    "sui.info"
   ]
  },
  {
   "cell_type": "code",
   "execution_count": 6,
   "metadata": {},
   "outputs": [
    {
     "data": {
      "text/html": [
       "<div>\n",
       "<style scoped>\n",
       "    .dataframe tbody tr th:only-of-type {\n",
       "        vertical-align: middle;\n",
       "    }\n",
       "\n",
       "    .dataframe tbody tr th {\n",
       "        vertical-align: top;\n",
       "    }\n",
       "\n",
       "    .dataframe thead th {\n",
       "        text-align: right;\n",
       "    }\n",
       "</style>\n",
       "<table border=\"1\" class=\"dataframe\">\n",
       "  <thead>\n",
       "    <tr style=\"text-align: right;\">\n",
       "      <th></th>\n",
       "      <th>State</th>\n",
       "      <th>Year</th>\n",
       "      <th>Type_code</th>\n",
       "      <th>Type</th>\n",
       "      <th>Gender</th>\n",
       "      <th>Age_group</th>\n",
       "      <th>Total</th>\n",
       "    </tr>\n",
       "  </thead>\n",
       "  <tbody>\n",
       "    <tr>\n",
       "      <th>count</th>\n",
       "      <td>237519</td>\n",
       "      <td>237519.000000</td>\n",
       "      <td>237519</td>\n",
       "      <td>237519</td>\n",
       "      <td>237519</td>\n",
       "      <td>237519</td>\n",
       "      <td>237519.000000</td>\n",
       "    </tr>\n",
       "    <tr>\n",
       "      <th>unique</th>\n",
       "      <td>38</td>\n",
       "      <td>NaN</td>\n",
       "      <td>5</td>\n",
       "      <td>69</td>\n",
       "      <td>2</td>\n",
       "      <td>6</td>\n",
       "      <td>NaN</td>\n",
       "    </tr>\n",
       "    <tr>\n",
       "      <th>top</th>\n",
       "      <td>Madhya Pradesh</td>\n",
       "      <td>NaN</td>\n",
       "      <td>Causes</td>\n",
       "      <td>Others (Please Specify)</td>\n",
       "      <td>Male</td>\n",
       "      <td>15-29</td>\n",
       "      <td>NaN</td>\n",
       "    </tr>\n",
       "    <tr>\n",
       "      <th>freq</th>\n",
       "      <td>6792</td>\n",
       "      <td>NaN</td>\n",
       "      <td>109200</td>\n",
       "      <td>7263</td>\n",
       "      <td>118879</td>\n",
       "      <td>45223</td>\n",
       "      <td>NaN</td>\n",
       "    </tr>\n",
       "    <tr>\n",
       "      <th>mean</th>\n",
       "      <td>NaN</td>\n",
       "      <td>2006.500448</td>\n",
       "      <td>NaN</td>\n",
       "      <td>NaN</td>\n",
       "      <td>NaN</td>\n",
       "      <td>NaN</td>\n",
       "      <td>55.034477</td>\n",
       "    </tr>\n",
       "    <tr>\n",
       "      <th>std</th>\n",
       "      <td>NaN</td>\n",
       "      <td>3.452240</td>\n",
       "      <td>NaN</td>\n",
       "      <td>NaN</td>\n",
       "      <td>NaN</td>\n",
       "      <td>NaN</td>\n",
       "      <td>792.749038</td>\n",
       "    </tr>\n",
       "    <tr>\n",
       "      <th>min</th>\n",
       "      <td>NaN</td>\n",
       "      <td>2001.000000</td>\n",
       "      <td>NaN</td>\n",
       "      <td>NaN</td>\n",
       "      <td>NaN</td>\n",
       "      <td>NaN</td>\n",
       "      <td>0.000000</td>\n",
       "    </tr>\n",
       "    <tr>\n",
       "      <th>25%</th>\n",
       "      <td>NaN</td>\n",
       "      <td>2004.000000</td>\n",
       "      <td>NaN</td>\n",
       "      <td>NaN</td>\n",
       "      <td>NaN</td>\n",
       "      <td>NaN</td>\n",
       "      <td>0.000000</td>\n",
       "    </tr>\n",
       "    <tr>\n",
       "      <th>50%</th>\n",
       "      <td>NaN</td>\n",
       "      <td>2007.000000</td>\n",
       "      <td>NaN</td>\n",
       "      <td>NaN</td>\n",
       "      <td>NaN</td>\n",
       "      <td>NaN</td>\n",
       "      <td>0.000000</td>\n",
       "    </tr>\n",
       "    <tr>\n",
       "      <th>75%</th>\n",
       "      <td>NaN</td>\n",
       "      <td>2010.000000</td>\n",
       "      <td>NaN</td>\n",
       "      <td>NaN</td>\n",
       "      <td>NaN</td>\n",
       "      <td>NaN</td>\n",
       "      <td>6.000000</td>\n",
       "    </tr>\n",
       "    <tr>\n",
       "      <th>max</th>\n",
       "      <td>NaN</td>\n",
       "      <td>2012.000000</td>\n",
       "      <td>NaN</td>\n",
       "      <td>NaN</td>\n",
       "      <td>NaN</td>\n",
       "      <td>NaN</td>\n",
       "      <td>63343.000000</td>\n",
       "    </tr>\n",
       "  </tbody>\n",
       "</table>\n",
       "</div>"
      ],
      "text/plain": [
       "                 State           Year Type_code                     Type  \\\n",
       "count           237519  237519.000000    237519                   237519   \n",
       "unique              38            NaN         5                       69   \n",
       "top     Madhya Pradesh            NaN    Causes  Others (Please Specify)   \n",
       "freq              6792            NaN    109200                     7263   \n",
       "mean               NaN    2006.500448       NaN                      NaN   \n",
       "std                NaN       3.452240       NaN                      NaN   \n",
       "min                NaN    2001.000000       NaN                      NaN   \n",
       "25%                NaN    2004.000000       NaN                      NaN   \n",
       "50%                NaN    2007.000000       NaN                      NaN   \n",
       "75%                NaN    2010.000000       NaN                      NaN   \n",
       "max                NaN    2012.000000       NaN                      NaN   \n",
       "\n",
       "        Gender Age_group          Total  \n",
       "count   237519    237519  237519.000000  \n",
       "unique       2         6            NaN  \n",
       "top       Male     15-29            NaN  \n",
       "freq    118879     45223            NaN  \n",
       "mean       NaN       NaN      55.034477  \n",
       "std        NaN       NaN     792.749038  \n",
       "min        NaN       NaN       0.000000  \n",
       "25%        NaN       NaN       0.000000  \n",
       "50%        NaN       NaN       0.000000  \n",
       "75%        NaN       NaN       6.000000  \n",
       "max        NaN       NaN   63343.000000  "
      ]
     },
     "execution_count": 6,
     "metadata": {},
     "output_type": "execute_result"
    }
   ],
   "source": [
    "sui.describe(include=\"all\")"
   ]
  },
  {
   "cell_type": "markdown",
   "metadata": {},
   "source": [
    "OBSERVATION 2 : We can see the whole summary of the data"
   ]
  },
  {
   "cell_type": "code",
   "execution_count": 7,
   "metadata": {},
   "outputs": [
    {
     "data": {
      "text/plain": [
       "State        0\n",
       "Year         0\n",
       "Type_code    0\n",
       "Type         0\n",
       "Gender       0\n",
       "Age_group    0\n",
       "Total        0\n",
       "dtype: int64"
      ]
     },
     "execution_count": 7,
     "metadata": {},
     "output_type": "execute_result"
    }
   ],
   "source": [
    "sui.isnull().sum()"
   ]
  },
  {
   "cell_type": "markdown",
   "metadata": {},
   "source": [
    "OBSERVATION 3 : shows the missing value here none"
   ]
  },
  {
   "cell_type": "code",
   "execution_count": 8,
   "metadata": {},
   "outputs": [
    {
     "data": {
      "text/plain": [
       "Madhya Pradesh       6792\n",
       "Maharashtra          6792\n",
       "Karnataka            6792\n",
       "Odisha               6791\n",
       "Andhra Pradesh       6791\n",
       "Rajasthan            6791\n",
       "Bihar                6790\n",
       "Chhattisgarh         6790\n",
       "Haryana              6790\n",
       "Kerala               6788\n",
       "Uttar Pradesh        6787\n",
       "Assam                6786\n",
       "Tamil Nadu           6786\n",
       "Gujarat              6786\n",
       "Jharkhand            6785\n",
       "Tripura              6782\n",
       "Delhi (Ut)           6782\n",
       "West Bengal          6780\n",
       "Punjab               6779\n",
       "Himachal Pradesh     6774\n",
       "Jammu & Kashmir      6761\n",
       "Goa                  6759\n",
       "Uttarakhand          6758\n",
       "Sikkim               6742\n",
       "Mizoram              6737\n",
       "Meghalaya            6733\n",
       "Puducherry           6730\n",
       "Chandigarh           6717\n",
       "A & N Islands        6712\n",
       "Daman & Diu          6710\n",
       "Arunachal Pradesh    6707\n",
       "Nagaland             6705\n",
       "D & N Haveli         6704\n",
       "Manipur              6700\n",
       "Lakshadweep          6674\n",
       "Total (All India)     312\n",
       "Total (States)        312\n",
       "Total (Uts)           312\n",
       "Name: State, dtype: int64"
      ]
     },
     "execution_count": 8,
     "metadata": {},
     "output_type": "execute_result"
    }
   ],
   "source": [
    "sui['State'].value_counts()"
   ]
  },
  {
   "cell_type": "code",
   "execution_count": 9,
   "metadata": {},
   "outputs": [
    {
     "data": {
      "text/plain": [
       "Causes                  109200\n",
       "Means_adopted            67200\n",
       "Professional_Profile     49263\n",
       "Education_Status          7296\n",
       "Social_Status             4560\n",
       "Name: Type_code, dtype: int64"
      ]
     },
     "execution_count": 9,
     "metadata": {},
     "output_type": "execute_result"
    }
   ],
   "source": [
    "sui['Type_code'].value_counts()"
   ]
  },
  {
   "cell_type": "code",
   "execution_count": 10,
   "metadata": {},
   "outputs": [
    {
     "data": {
      "text/plain": [
       "State          38\n",
       "Year           12\n",
       "Type_code       5\n",
       "Type           69\n",
       "Gender          2\n",
       "Age_group       6\n",
       "Total        2180\n",
       "dtype: int64"
      ]
     },
     "execution_count": 10,
     "metadata": {},
     "output_type": "execute_result"
    }
   ],
   "source": [
    "sui.nunique()"
   ]
  },
  {
   "cell_type": "markdown",
   "metadata": {},
   "source": [
    "OBSERVATION 4 : no need for adding the totals in state\n",
    "\n",
    "INFERENCE 1 : so we will remove it"
   ]
  },
  {
   "cell_type": "code",
   "execution_count": 11,
   "metadata": {},
   "outputs": [
    {
     "data": {
      "text/plain": [
       "State          35\n",
       "Year           12\n",
       "Type_code       5\n",
       "Type           69\n",
       "Gender          2\n",
       "Age_group       6\n",
       "Total        1764\n",
       "dtype: int64"
      ]
     },
     "execution_count": 11,
     "metadata": {},
     "output_type": "execute_result"
    }
   ],
   "source": [
    "suic=sui[(sui['State']!='Total (All India)') & (sui['State']!= 'Total (States)') & (sui['State']!= 'Total (Uts)') ]\n",
    "suic.nunique()"
   ]
  },
  {
   "cell_type": "markdown",
   "metadata": {},
   "source": [
    "OBSERVATION 5 : 3 unique value removed from state\n",
    "* we are gonna remove the values where total is zero because there is no point in analysing something if there are no suicides"
   ]
  },
  {
   "cell_type": "code",
   "execution_count": 12,
   "metadata": {},
   "outputs": [
    {
     "data": {
      "text/plain": [
       "(101110, 7)"
      ]
     },
     "execution_count": 12,
     "metadata": {},
     "output_type": "execute_result"
    }
   ],
   "source": [
    "suic = suic.drop(suic[suic.Total==0].index)\n",
    "suic.shape\n"
   ]
  },
  {
   "cell_type": "markdown",
   "metadata": {},
   "source": [
    "OBSERVATION 6 : Large number of rows reduced"
   ]
  },
  {
   "cell_type": "markdown",
   "metadata": {},
   "source": [
    "DATA PREPARATION RESULTS\n",
    "* Before : 237519 rows and 7 coloumns\n",
    "* After : 101110 rows and 7 cols"
   ]
  },
  {
   "cell_type": "markdown",
   "metadata": {},
   "source": [
    "~ ANALYSIS"
   ]
  },
  {
   "cell_type": "markdown",
   "metadata": {},
   "source": [
    "TYPEWISE"
   ]
  },
  {
   "cell_type": "code",
   "execution_count": 13,
   "metadata": {},
   "outputs": [
    {
     "name": "stderr",
     "output_type": "stream",
     "text": [
      "C:\\Users\\Arjun\\AppData\\Local\\Temp\\ipykernel_11120\\1265912711.py:1: FutureWarning: The default value of numeric_only in DataFrameGroupBy.sum is deprecated. In a future version, numeric_only will default to False. Either specify numeric_only or select only columns which should be valid for the function.\n",
      "  death_type_counts = suic.groupby(\"Type_code\").sum()[\"Total\"]\n"
     ]
    },
    {
     "data": {
      "text/plain": [
       "Type_code\n",
       "Causes                  1440974\n",
       "Education_Status        1455931\n",
       "Means_adopted           1455931\n",
       "Professional_Profile    1439243\n",
       "Social_Status           1455931\n",
       "Name: Total, dtype: int64"
      ]
     },
     "execution_count": 13,
     "metadata": {},
     "output_type": "execute_result"
    }
   ],
   "source": [
    "death_type_counts = suic.groupby(\"Type_code\").sum()[\"Total\"]\n",
    "death_type_counts"
   ]
  },
  {
   "cell_type": "code",
   "execution_count": 14,
   "metadata": {},
   "outputs": [
    {
     "data": {
      "image/png": "[encoded data removed]",
      "text/plain": [
       "<Figure size 640x480 with 1 Axes>"
      ]
     },
     "metadata": {},
     "output_type": "display_data"
    }
   ],
   "source": [
    "plt.pie(death_type_counts, labels=death_type_counts.index, autopct='%1.1f%%', startangle=140)\n",
    "plt.title('Distribution of Type Codes')\n",
    "plt.show()\n"
   ]
  },
  {
   "cell_type": "markdown",
   "metadata": {},
   "source": [
    "STATEWISE\n"
   ]
  },
  {
   "cell_type": "code",
   "execution_count": 15,
   "metadata": {},
   "outputs": [
    {
     "data": {
      "text/plain": [
       "20       Maharashtra\n",
       "34       West Bengal\n",
       "30        Tamil Nadu\n",
       "1     Andhra Pradesh\n",
       "16         Karnataka\n",
       "17            Kerala\n",
       "19    Madhya Pradesh\n",
       "11           Gujarat\n",
       "6       Chhattisgarh\n",
       "25            Odisha\n",
       "Name: State, dtype: object"
      ]
     },
     "execution_count": 15,
     "metadata": {},
     "output_type": "execute_result"
    }
   ],
   "source": [
    "indian_states_data = suic[suic['State'].str.contains('Total', case=False) == False]\n",
    "\n",
    "statewise_total_suicides = indian_states_data.groupby('State')['Total'].sum().reset_index()\n",
    "\n",
    "statewise_total_suicides_sorted = statewise_total_suicides.sort_values(by='Total', ascending=False)\n",
    "\n",
    "top10= statewise_total_suicides_sorted[:10]\n",
    "top10['State']"
   ]
  },
  {
   "cell_type": "code",
   "execution_count": 16,
   "metadata": {},
   "outputs": [
    {
     "data": {
      "image/png": "[encoded data removed]",
      "text/plain": [
       "<Figure size 1200x600 with 1 Axes>"
      ]
     },
     "metadata": {},
     "output_type": "display_data"
    }
   ],
   "source": [
    "plt.figure(figsize=(12, 6))\n",
    "plt.bar(top10['State'], top10['Total'])\n",
    "plt.xticks(rotation=90)\n",
    "plt.xlabel('State')\n",
    "plt.ylabel('Total Suicides')\n",
    "plt.title('Total Suicides by State in India')\n",
    "plt.show()"
   ]
  },
  {
   "cell_type": "markdown",
   "metadata": {},
   "source": [
    "\n",
    "GENDERWISE"
   ]
  },
  {
   "cell_type": "code",
   "execution_count": 17,
   "metadata": {},
   "outputs": [
    {
     "name": "stderr",
     "output_type": "stream",
     "text": [
      "C:\\Users\\Arjun\\AppData\\Local\\Temp\\ipykernel_11120\\2585305854.py:1: FutureWarning: The default value of numeric_only in DataFrameGroupBy.sum is deprecated. In a future version, numeric_only will default to False. Either specify numeric_only or select only columns which should be valid for the function.\n",
      "  death_gender_counts = suic.groupby(\"Gender\").sum()[\"Total\"]\n"
     ]
    },
    {
     "data": {
      "image/png": "[encoded data removed]",
      "text/plain": [
       "<Figure size 640x480 with 1 Axes>"
      ]
     },
     "metadata": {},
     "output_type": "display_data"
    }
   ],
   "source": [
    "death_gender_counts = suic.groupby(\"Gender\").sum()[\"Total\"]\n",
    "death_gender_counts\n",
    "\n",
    "plt.pie(death_gender_counts, labels=death_gender_counts.index, autopct='%1.1f%%', startangle=140)\n",
    "plt.title('Distribution of Gender Deaths')\n",
    "plt.show()\n"
   ]
  },
  {
   "cell_type": "markdown",
   "metadata": {},
   "source": [
    "AGEWISE"
   ]
  },
  {
   "cell_type": "code",
   "execution_count": 18,
   "metadata": {},
   "outputs": [],
   "source": [
    "age_data = suic['Age_group'] "
   ]
  },
  {
   "cell_type": "code",
   "execution_count": 19,
   "metadata": {},
   "outputs": [
    {
     "data": {
      "image/png": "[encoded data removed]",
      "text/plain": [
       "<Figure size 1000x600 with 1 Axes>"
      ]
     },
     "metadata": {},
     "output_type": "display_data"
    }
   ],
   "source": [
    "plt.figure(figsize=(10, 6))\n",
    "plt.hist(age_data, bins=20, edgecolor='k')  # 'bins' is the number of bins in the histogram\n",
    "plt.xlabel('Age Groups')\n",
    "plt.ylabel('Number of Deaths')\n",
    "plt.title('Age-wise Deaths Histogram')\n",
    "plt.xticks(rotation=45)  # Rotate x-axis labels for readability\n",
    "plt.show()"
   ]
  },
  {
   "cell_type": "markdown",
   "metadata": {},
   "source": [
    "TIMELINE"
   ]
  },
  {
   "cell_type": "code",
   "execution_count": 20,
   "metadata": {},
   "outputs": [
    {
     "data": {
      "image/png": "[encoded data removed]",
      "text/plain": [
       "<Figure size 1000x600 with 1 Axes>"
      ]
     },
     "metadata": {},
     "output_type": "display_data"
    }
   ],
   "source": [
    "yearly_totals = suic.groupby(\"Year\")[\"Total\"].sum()\n",
    "\n",
    "\n",
    "plt.figure(figsize=(10, 6))\n",
    "plt.plot(yearly_totals.index, yearly_totals.values, marker='o', linestyle='-', color='b')\n",
    "plt.title(\"Total Suicides by Year\")\n",
    "plt.xlabel(\"Year\")\n",
    "plt.ylabel(\"Total Suicides in millions\")\n",
    "plt.grid(True)\n",
    "plt.show()"
   ]
  },
  {
   "cell_type": "markdown",
   "metadata": {},
   "source": [
    "GRAPHICAL INFERENCE:-*We can see there is a slight decrease in total sucides after 2011 from the above graphs we realose that the age group 15-29 has more number of sucides which can be termed as the age of college + professional life. And also from the above pie chart it is visiblle that educational and social type influences the rate of sucide to a large extend and both the charts are interconnected as thease types critically occur during the above mentioned age group. Increase in population may also be a factor increasing suicides*"
   ]
  },
  {
   "cell_type": "markdown",
   "metadata": {},
   "source": [
    "PREDICTION BASED ON STATE,TYPE CODE AND  GENDER"
   ]
  },
  {
   "cell_type": "code",
   "execution_count": 21,
   "metadata": {},
   "outputs": [
    {
     "data": {
      "application/vnd.jupyter.widget-view+json": {
       "model_id": "5c029c7944334eccbe350a24ea5ba795",
       "version_major": 2,
       "version_minor": 0
      },
      "text/plain": [
       "interactive(children=(Dropdown(description='State:', options=('A & N Islands', 'Andhra Pradesh', 'Arunachal Pr…"
      ]
     },
     "metadata": {},
     "output_type": "display_data"
    },
    {
     "data": {
      "text/plain": [
       "<function __main__.filter_data(state, type_code, gender, age_group)>"
      ]
     },
     "execution_count": 21,
     "metadata": {},
     "output_type": "execute_result"
    }
   ],
   "source": [
    "\n",
    "filtered_data = pd.DataFrame()\n",
    "\n",
    "def filter_data(state, type_code, gender, age_group):\n",
    "    global filtered_data\n",
    "    filtered_data = suic[(suic['State'] == state) & (suic['Type_code'] == type_code) & (suic['Gender'] == gender) & (suic['Age_group'] == age_group)]\n",
    "\n",
    "state_widget = widgets.Dropdown(options=suic['State'].unique(), description='State:')\n",
    "type_code_widget = widgets.Dropdown(options=suic['Type_code'].unique(), description='Type Code:')\n",
    "gender_widget = widgets.Dropdown(options=suic['Gender'].unique(), description='Gender:')\n",
    "age_group_widget = widgets.Dropdown(description='Age Group:')\n",
    "\n",
    "def update_age_group_options(change):\n",
    "    state = state_widget.value\n",
    "    type_code = type_code_widget.value\n",
    "    gender = gender_widget.value\n",
    "    age_group_widget.options = suic[(suic['State'] == state) & (suic['Type_code'] == type_code) & (suic['Gender'] == gender)]['Age_group'].unique()\n",
    "\n",
    "\n",
    "state_widget.observe(update_age_group_options, names='value')\n",
    "type_code_widget.observe(update_age_group_options, names='value')\n",
    "gender_widget.observe(update_age_group_options, names='value')\n",
    "\n",
    "\n",
    "interact(filter_data, state=state_widget, type_code=type_code_widget, gender=gender_widget, age_group=age_group_widget)\n"
   ]
  },
  {
   "cell_type": "code",
   "execution_count": 26,
   "metadata": {},
   "outputs": [
    {
     "name": "stdout",
     "output_type": "stream",
     "text": [
      "No data available for the selected filters.\n"
     ]
    }
   ],
   "source": [
    "\n",
    "if not filtered_data.empty:\n",
    "   \n",
    "    year = int(input(\"Enter the year to be predicted: \"))\n",
    "    \n",
    "    X = filtered_data.drop(columns=['Total', 'State', 'Type_code', 'Type', 'Gender', 'Age_group'])\n",
    "    y = filtered_data['Total']\n",
    "\n",
    "    model = RandomForestRegressor(n_estimators=20, random_state=42)\n",
    "    \n",
    "    model.fit(X, y)\n",
    "\n",
    "\n",
    "    new_data_dict = {\n",
    "        'Year': [year]\n",
    "    }\n",
    "\n",
    "    new_data = pd.DataFrame(new_data_dict)\n",
    "\n",
    "\n",
    "    prediction = model.predict(new_data)\n",
    "    print(f\"Predicted Total Suicides for the year {year}: {prediction[0]:.2f}\")\n",
    "else:\n",
    "    print(\"No data available for the selected filters.\")\n"
   ]
  },
  {
   "cell_type": "markdown",
   "metadata": {},
   "source": [
    "MODEL TRAINING AND EVALUATION"
   ]
  },
  {
   "cell_type": "code",
   "execution_count": 23,
   "metadata": {},
   "outputs": [
    {
     "name": "stdout",
     "output_type": "stream",
     "text": [
      "No data available for the selected filters.\n"
     ]
    }
   ],
   "source": [
    "\n",
    "if not filtered_data.empty:\n",
    "    \n",
    "    X = filtered_data[['Year']]\n",
    "    y = filtered_data['Total']\n",
    "\n",
    "   \n",
    "    X_train, X_test, y_train, y_test = train_test_split(X, y, test_size=0.2, random_state=42)\n",
    "\n",
    "  \n",
    "    model = RandomForestRegressor(n_estimators=100, random_state=42)\n",
    "    model.fit(X_train, y_train)\n",
    "\n",
    "    \n",
    "    y_pred = model.predict(X_test)\n",
    "\n",
    "    \n",
    "    mae = mean_absolute_error(y_test, y_pred)\n",
    "\n",
    "    print(f\"Mean Absolute Error on Test Set: {mae:.2f}\")\n",
    "else:\n",
    "    print(\"No data available for the selected filters.\")\n"
   ]
  },
  {
   "cell_type": "markdown",
   "metadata": {},
   "source": [
    "MINI DASHBOARD IMPLEMENTATION"
   ]
  },
  {
   "cell_type": "code",
   "execution_count": 24,
   "metadata": {},
   "outputs": [
    {
     "data": {
      "application/vnd.jupyter.widget-view+json": {
       "model_id": "89a127ed39ca43d09d07447edfdb6f52",
       "version_major": 2,
       "version_minor": 0
      },
      "text/plain": [
       "interactive(children=(Dropdown(description='Select State:', options=('A & N Islands', 'Andhra Pradesh', 'Aruna…"
      ]
     },
     "metadata": {},
     "output_type": "display_data"
    },
    {
     "data": {
      "text/plain": [
       "<function __main__.update_plots(state)>"
      ]
     },
     "execution_count": 24,
     "metadata": {},
     "output_type": "execute_result"
    }
   ],
   "source": [
    "\n",
    "state_widget = widgets.Dropdown(\n",
    "    options=suic['State'].unique(),\n",
    "    description='Select State:',\n",
    ")\n",
    "\n",
    "\n",
    "def update_plots(state):\n",
    "    filtered_data = suic[suic['State'] == state]\n",
    "\n",
    "    # Plot 1: Total Suicides in Each Type for the selected state\n",
    "    type_counts = filtered_data['Type_code'].value_counts()\n",
    "    plt.figure(figsize=(10, 6))\n",
    "    plt.bar(type_counts.index, type_counts.values)\n",
    "    plt.xlabel('Suicide Type')\n",
    "    plt.ylabel('Total Suicides')\n",
    "    plt.title(f'Total Suicides in Each Type for {state}')\n",
    "    plt.xticks(rotation=90)\n",
    "    plt.show()\n",
    "\n",
    "    # Plot 2: Timeline of Suicides\n",
    "    timeline_counts = filtered_data['Year'].value_counts().sort_index()\n",
    "    plt.figure(figsize=(10, 6))\n",
    "    plt.plot(timeline_counts.index, timeline_counts.values, marker='o')\n",
    "    plt.xlabel('Year')\n",
    "    plt.ylabel('Total Suicides')\n",
    "    plt.title(f'Timeline of Suicides in {state}')\n",
    "    plt.grid(True)\n",
    "    plt.show()\n",
    "\n",
    "    # Plot 3: Gender Proportion Pie Chart\n",
    "    gender_counts = Counter(filtered_data['Gender'])\n",
    "    plt.figure(figsize=(6, 6))\n",
    "    plt.pie(gender_counts.values(), labels=gender_counts.keys(), autopct='%1.1f%%', startangle=140)\n",
    "    plt.axis('equal') \n",
    "    plt.title(f'Gender Proportion in {state}')\n",
    "    plt.show()\n",
    "\n",
    "\n",
    "interact(update_plots, state=state_widget)\n"
   ]
  },
  {
   "cell_type": "markdown",
   "metadata": {},
   "source": [
    "NOTES:\n",
    "* change the dashboard however you wish to get your desired output\n",
    "* The below shown dropbox shows the different types behind each type codes"
   ]
  },
  {
   "cell_type": "code",
   "execution_count": 25,
   "metadata": {},
   "outputs": [
    {
     "data": {
      "application/vnd.jupyter.widget-view+json": {
       "model_id": "f3e84315b4614b19bf83ccb75683cae0",
       "version_major": 2,
       "version_minor": 0
      },
      "text/plain": [
       "interactive(children=(Dropdown(description='Select Type Code:', options=('Causes', 'Education_Status', 'Means_…"
      ]
     },
     "metadata": {},
     "output_type": "display_data"
    },
    {
     "data": {
      "text/plain": [
       "<function __main__.display_unique_types(type_code)>"
      ]
     },
     "execution_count": 25,
     "metadata": {},
     "output_type": "execute_result"
    }
   ],
   "source": [
    "\n",
    "type_code_widget = widgets.Dropdown(\n",
    "    options=suic['Type_code'].unique(),\n",
    "    description='Select Type Code:',\n",
    ")\n",
    "\n",
    "def display_unique_types(type_code):\n",
    "    filtered_data = suic[suic['Type_code'] == type_code]\n",
    "\n",
    "\n",
    "    unique_types = filtered_data['Type'].unique()\n",
    "    \n",
    "    \n",
    "    print(\"Unique Types for the selected Type Code:\")\n",
    "    for unique_type in unique_types:\n",
    "        print(unique_type)\n",
    "\n",
    "interact(display_unique_types, type_code=type_code_widget)\n"
   ]
  }
 ],
 "metadata": {
  "kernelspec": {
   "display_name": "Python 3 (ipykernel)",
   "language": "python",
   "name": "python3"
  },
  "language_info": {
   "codemirror_mode": {
    "name": "ipython",
    "version": 3
   },
   "file_extension": ".py",
   "mimetype": "text/x-python",
   "name": "python",
   "nbconvert_exporter": "python",
   "pygments_lexer": "ipython3",
   "version": "3.11.3"
  }
 },
 "nbformat": 4,
 "nbformat_minor": 4
}
